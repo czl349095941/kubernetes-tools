{
 "cells": [
  {
   "cell_type": "code",
   "execution_count": 1,
   "metadata": {},
   "outputs": [
    {
     "name": "stdout",
     "output_type": "stream",
     "text": [
      "NAME        STATUS   ROLES    AGE    VERSION   INTERNAL-IP       EXTERNAL-IP   OS-IMAGE           KERNEL-VERSION     CONTAINER-RUNTIME\n",
      "openbox00   Ready    master   188d   v1.18.3   192.168.199.173   <none>        Ubuntu 20.04 LTS   5.4.0-37-generic   docker://19.3.12\n",
      "openbox01   Ready    master   171d   v1.18.3   192.168.199.180   <none>        Ubuntu 20.04 LTS   5.4.0-37-generic   docker://19.3.8\n",
      "openbox02   Ready    master   188d   v1.18.3   192.168.199.249   <none>        Ubuntu 20.04 LTS   5.4.0-26-generic   docker://19.3.12\n"
     ]
    }
   ],
   "source": [
    "!kubectl get node -owide"
   ]
  },
  {
   "cell_type": "code",
   "execution_count": null,
   "metadata": {},
   "outputs": [],
   "source": []
  }
 ],
 "metadata": {
  "kernelspec": {
   "display_name": "Python 3",
   "language": "python",
   "name": "python3"
  },
  "language_info": {
   "codemirror_mode": {
    "name": "ipython",
    "version": 3
   },
   "file_extension": ".py",
   "mimetype": "text/x-python",
   "name": "python",
   "nbconvert_exporter": "python",
   "pygments_lexer": "ipython3",
   "version": "3.6.9"
  }
 },
 "nbformat": 4,
 "nbformat_minor": 4
}
